{
 "cells": [
  {
   "cell_type": "markdown",
   "id": "8fa1667d",
   "metadata": {},
   "source": [
    "# Chess Piece Classification with CNN"
   ]
  },
  {
   "cell_type": "markdown",
   "id": "5099dab3",
   "metadata": {},
   "source": [
    "## Preparing the data"
   ]
  },
  {
   "cell_type": "code",
   "execution_count": 1,
   "id": "798bc680",
   "metadata": {
    "scrolled": true
   },
   "outputs": [],
   "source": [
    "import json\n",
    "import numpy as np\n",
    "from typing import List\n",
    "\n",
    "from tensorflow.keras.preprocessing.image import load_img, img_to_array\n",
    "\n",
    "N_SQUARES = 8  # Chessboard is 8x8 squares\n",
    "\n",
    "def load_square_images(board_image_file: str) -> List[np.ndarray]:\n",
    "\n",
    "    board_image = img_to_array(load_img(board_image_file, color_mode='grayscale'))\n",
    "    assert board_image.shape[0] == board_image.shape[1]  # Square image\n",
    "\n",
    "    sq_size = int(board_image.shape[0] / N_SQUARES) # pixel size\n",
    "    \n",
    "    # obtain individual images of all sqaures on a chess board\n",
    "    images = []\n",
    "    for row in range(N_SQUARES):\n",
    "        for col in range(N_SQUARES):\n",
    "            images.append(\n",
    "                board_image[\n",
    "                    row*sq_size : (row+1)*sq_size, \n",
    "                    col*sq_size : (col+1)*sq_size\n",
    "                ]\n",
    "            )\n",
    "    \n",
    "    return images # of shape (64, 50, 50, 1) (NUM_SQUARES_ON_CHESSBOARD, HEIGHT, WIDTH, DEPTH)\n",
    "\n",
    "def load_board_images(image_dir: str, board_data: list) -> np.ndarray:\n",
    "\n",
    "    # load squares for each board\n",
    "    images = []\n",
    "    for board_dict in board_data:\n",
    "        board_image_file = f'./data/{image_dir}/{board_dict[\"image\"]}'\n",
    "        images.append(load_square_images(board_image_file))\n",
    "        \n",
    "    return np.array(images)\n",
    "\n",
    "def load_board_labels(board_data: list) -> np.ndarray:\n",
    "    \n",
    "    labels = []\n",
    "    for board in board_data:\n",
    "        for s in board[\"board\"]:\n",
    "            labels += list(s)\n",
    "\n",
    "    return np.array(labels)"
   ]
  },
  {
   "cell_type": "markdown",
   "id": "83f640ab",
   "metadata": {},
   "source": [
    "## Loading and preprocessing the data"
   ]
  },
  {
   "cell_type": "code",
   "execution_count": 2,
   "id": "85a68e70",
   "metadata": {},
   "outputs": [],
   "source": [
    "def load_data():\n",
    "    \n",
    "    # training data\n",
    "    with open('./data/boards.train.json') as training_file:\n",
    "        data = json.load(training_file)\n",
    "\n",
    "    train_data = load_board_images('clean', data)\n",
    "    train_labels = load_board_labels(data)\n",
    "    \n",
    "    # test data\n",
    "    with open('./data/boards.dev.json') as test_file:\n",
    "        data = json.load(test_file)\n",
    "\n",
    "    test_data = load_board_images('clean', data)\n",
    "    test_labels = load_board_labels(data)\n",
    "    \n",
    "    train_data = train_data.reshape(100*64, 50, 50, 1) # 100 boards, 6400 squares\n",
    "    test_data = test_data.reshape(25*64, 50, 50, 1) # 25 boards, 1600 squares\n",
    "    \n",
    "    return (train_data, train_labels), (test_data, test_labels)"
   ]
  },
  {
   "cell_type": "code",
   "execution_count": 3,
   "id": "d48083f1",
   "metadata": {},
   "outputs": [],
   "source": [
    "(train_data, train_labels), (test_data, test_labels) = load_data()\n",
    "\n",
    "validation_data = train_data[4800:]\n",
    "validation_labels = train_labels[4800:]\n",
    "train_data = train_data[:4800]\n",
    "train_labels = train_labels[:4800]\n",
    "\n",
    "# normalise data\n",
    "# scale pixels values in range [0,1]\n",
    "# makes learning process easier for neural networks\n",
    "train_data = train_data.astype('float32') / 255\n",
    "test_data = test_data.astype('float32') / 255"
   ]
  },
  {
   "cell_type": "code",
   "execution_count": 4,
   "id": "34200a69",
   "metadata": {},
   "outputs": [
    {
     "name": "stdout",
     "output_type": "stream",
     "text": [
      ". 3659\n",
      "K 74\n",
      "Q 37\n",
      "B 49\n",
      "N 51\n",
      "R 71\n",
      "P 294\n",
      "k 74\n",
      "q 34\n",
      "b 51\n",
      "n 39\n",
      "r 70\n",
      "p 297\n"
     ]
    }
   ],
   "source": [
    "PIECES = ['.', 'K', 'Q', 'B', 'N', 'R', 'P', 'k', 'q', 'b', 'n', 'r', 'p']\n",
    "\n",
    "for p in PIECES:\n",
    "    print(f\"{p} {train_labels.tolist().count(p)}\")"
   ]
  },
  {
   "cell_type": "code",
   "execution_count": 5,
   "id": "4c2a518c",
   "metadata": {},
   "outputs": [],
   "source": [
    "from sklearn.preprocessing import LabelBinarizer\n",
    "encoder = LabelBinarizer()\n",
    "\n",
    "one_hot_train_labels = encoder.fit_transform(train_labels)\n",
    "one_hot_validation_labels = encoder.fit_transform(validation_labels)\n",
    "one_hot_test_labels = encoder.fit_transform(test_labels)"
   ]
  },
  {
   "cell_type": "markdown",
   "id": "08c5e919",
   "metadata": {},
   "source": [
    "## Developing and training model"
   ]
  },
  {
   "cell_type": "code",
   "execution_count": 6,
   "id": "719abb93",
   "metadata": {
    "scrolled": true
   },
   "outputs": [
    {
     "name": "stdout",
     "output_type": "stream",
     "text": [
      "Epoch 1/20\n",
      "100/100 [==============================] - 10s 95ms/step - loss: 0.7237 - accuracy: 0.8388 - val_loss: 137.6523 - val_accuracy: 0.8050\n",
      "Epoch 2/20\n",
      "100/100 [==============================] - 9s 94ms/step - loss: 0.1256 - accuracy: 0.9646 - val_loss: 28.3410 - val_accuracy: 0.9419\n",
      "Epoch 3/20\n",
      "100/100 [==============================] - 10s 97ms/step - loss: 0.0422 - accuracy: 0.9867 - val_loss: 139.7565 - val_accuracy: 0.8550\n",
      "Epoch 4/20\n",
      "100/100 [==============================] - 10s 102ms/step - loss: 0.0507 - accuracy: 0.9873 - val_loss: 89.4626 - val_accuracy: 0.8931\n",
      "Epoch 5/20\n",
      "100/100 [==============================] - 10s 102ms/step - loss: 0.0148 - accuracy: 0.9960 - val_loss: 6.5770 - val_accuracy: 0.9894\n",
      "Epoch 6/20\n",
      "100/100 [==============================] - 10s 105ms/step - loss: 0.0098 - accuracy: 0.9967 - val_loss: 450.6511 - val_accuracy: 0.8019\n",
      "Epoch 7/20\n",
      "100/100 [==============================] - 11s 107ms/step - loss: 0.0110 - accuracy: 0.9977 - val_loss: 18.8489 - val_accuracy: 0.9756\n",
      "Epoch 8/20\n",
      "100/100 [==============================] - 11s 110ms/step - loss: 0.0120 - accuracy: 0.9977 - val_loss: 103.8638 - val_accuracy: 0.9131\n",
      "Epoch 9/20\n",
      "100/100 [==============================] - 12s 123ms/step - loss: 0.0153 - accuracy: 0.9954 - val_loss: 20.7110 - val_accuracy: 0.9706\n",
      "Epoch 10/20\n",
      "100/100 [==============================] - 12s 124ms/step - loss: 0.0039 - accuracy: 0.9992 - val_loss: 41.4200 - val_accuracy: 0.9581\n",
      "Epoch 11/20\n",
      "100/100 [==============================] - 13s 133ms/step - loss: 0.0034 - accuracy: 0.9987 - val_loss: 73.1232 - val_accuracy: 0.9306\n",
      "Epoch 12/20\n",
      "100/100 [==============================] - 13s 134ms/step - loss: 0.0041 - accuracy: 0.9990 - val_loss: 192.8120 - val_accuracy: 0.8869\n",
      "Epoch 13/20\n",
      "100/100 [==============================] - 13s 132ms/step - loss: 0.0040 - accuracy: 0.9996 - val_loss: 720.9739 - val_accuracy: 0.7519\n",
      "Epoch 14/20\n",
      "100/100 [==============================] - 13s 134ms/step - loss: 0.0035 - accuracy: 0.9987 - val_loss: 146.2093 - val_accuracy: 0.9069\n",
      "Epoch 15/20\n",
      "100/100 [==============================] - 13s 131ms/step - loss: 0.0030 - accuracy: 0.9992 - val_loss: 445.0411 - val_accuracy: 0.8400\n",
      "Epoch 16/20\n",
      "100/100 [==============================] - 13s 131ms/step - loss: 0.0031 - accuracy: 0.9996 - val_loss: 216.3239 - val_accuracy: 0.8869\n",
      "Epoch 17/20\n",
      "100/100 [==============================] - 13s 133ms/step - loss: 0.0042 - accuracy: 0.9992 - val_loss: 132.2050 - val_accuracy: 0.9181\n",
      "Epoch 18/20\n",
      "100/100 [==============================] - 14s 143ms/step - loss: 4.0323e-05 - accuracy: 1.0000 - val_loss: 188.1476 - val_accuracy: 0.9219\n",
      "Epoch 19/20\n",
      "100/100 [==============================] - 13s 135ms/step - loss: 0.0017 - accuracy: 0.9998 - val_loss: 312.9486 - val_accuracy: 0.8819\n",
      "Epoch 20/20\n",
      "100/100 [==============================] - 13s 132ms/step - loss: 0.0013 - accuracy: 0.9998 - val_loss: 25.9343 - val_accuracy: 0.9706\n",
      "50/50 [==============================] - 1s 29ms/step - loss: 0.0367 - accuracy: 0.9962\n"
     ]
    },
    {
     "data": {
      "text/plain": [
       "0.9962499737739563"
      ]
     },
     "execution_count": 6,
     "metadata": {},
     "output_type": "execute_result"
    }
   ],
   "source": [
    "from tensorflow.keras import models\n",
    "from tensorflow.keras import layers\n",
    "\n",
    "model = models.Sequential()\n",
    "model.add(layers.Conv2D(32, (3, 3), activation='relu', input_shape=(50, 50, 1)))\n",
    "model.add(layers.MaxPooling2D((2, 2)))\n",
    "model.add(layers.Conv2D(64, (3, 3), activation='relu'))\n",
    "model.add(layers.MaxPooling2D((2, 2)))\n",
    "model.add(layers.Conv2D(64, (3, 3), activation='relu'))\n",
    "\n",
    "model.add(layers.Flatten())\n",
    "model.add(layers.Dense(64, activation='relu'))\n",
    "# softmax typically used for output layer for single-label multi-class classification problems\n",
    "model.add(layers.Dense(13, activation='softmax'))\n",
    "\n",
    "model.compile(optimizer='rmsprop', loss='categorical_crossentropy', metrics=['accuracy'])\n",
    "history = model.fit(train_data, one_hot_train_labels, epochs=20, batch_size=48,\n",
    "                    validation_data=(validation_data, one_hot_validation_labels)\n",
    ")\n",
    "\n",
    "test_loss, test_acc = model.evaluate(test_data, one_hot_test_labels)\n",
    "test_acc"
   ]
  },
  {
   "cell_type": "markdown",
   "id": "3c692cf8",
   "metadata": {},
   "source": [
    "## Evaluating model and tuning hyperparameters"
   ]
  },
  {
   "cell_type": "code",
   "execution_count": 7,
   "id": "e7213714",
   "metadata": {
    "scrolled": true
   },
   "outputs": [
    {
     "data": {
      "image/png": "[encoded data removed]",
      "text/plain": [
       "<Figure size 432x288 with 1 Axes>"
      ]
     },
     "metadata": {
      "needs_background": "light"
     },
     "output_type": "display_data"
    },
    {
     "data": {
      "image/png": "[encoded data removed]",
      "text/plain": [
       "<Figure size 432x288 with 1 Axes>"
      ]
     },
     "metadata": {
      "needs_background": "light"
     },
     "output_type": "display_data"
    }
   ],
   "source": [
    "import matplotlib.pyplot as plt\n",
    "\n",
    "acc = history.history['accuracy']\n",
    "val_acc = history.history['val_accuracy']\n",
    "loss = history.history['loss']\n",
    "val_loss = history.history['val_loss']\n",
    "\n",
    "epochs = range(1, len(acc) + 1)\n",
    "\n",
    "plt.plot(epochs, acc, 'bo', label='Training acc')\n",
    "plt.plot(epochs, val_acc, 'b', label='Validation acc')\n",
    "plt.title('Training and validation accuracy')\n",
    "plt.legend()\n",
    "\n",
    "plt.figure()\n",
    "\n",
    "plt.plot(epochs, loss, 'bo', label='Training loss')\n",
    "plt.plot(epochs, val_loss, 'b', label='Validation loss')\n",
    "plt.title('Training and validation loss')\n",
    "plt.legend()\n",
    "\n",
    "plt.show()"
   ]
  },
  {
   "cell_type": "code",
   "execution_count": 9,
   "id": "eeac7a64",
   "metadata": {},
   "outputs": [
    {
     "name": "stdout",
     "output_type": "stream",
     "text": [
      "Epoch 1/5\n",
      "100/100 [==============================] - 13s 126ms/step - loss: 0.7574 - accuracy: 0.8240 - val_loss: 42.0924 - val_accuracy: 0.8806\n",
      "Epoch 2/5\n",
      "100/100 [==============================] - 13s 134ms/step - loss: 0.1246 - accuracy: 0.9663 - val_loss: 18.8519 - val_accuracy: 0.9444\n",
      "Epoch 3/5\n",
      "100/100 [==============================] - 13s 135ms/step - loss: 0.0391 - accuracy: 0.9908 - val_loss: 90.0314 - val_accuracy: 0.8938\n",
      "Epoch 4/5\n",
      "100/100 [==============================] - 13s 132ms/step - loss: 0.0288 - accuracy: 0.9906 - val_loss: 23.2716 - val_accuracy: 0.9556\n",
      "Epoch 5/5\n",
      "100/100 [==============================] - 14s 136ms/step - loss: 0.0127 - accuracy: 0.9967 - val_loss: 21.2030 - val_accuracy: 0.9719\n",
      "50/50 [==============================] - 1s 28ms/step - loss: 0.0109 - accuracy: 0.9969\n"
     ]
    },
    {
     "data": {
      "text/plain": [
       "0.996874988079071"
      ]
     },
     "execution_count": 9,
     "metadata": {},
     "output_type": "execute_result"
    }
   ],
   "source": [
    "model = models.Sequential()\n",
    "model.add(layers.Conv2D(32, (3, 3), activation='relu', input_shape=(50, 50, 1)))\n",
    "model.add(layers.MaxPooling2D((2, 2)))\n",
    "model.add(layers.Conv2D(64, (3, 3), activation='relu'))\n",
    "model.add(layers.MaxPooling2D((2, 2)))\n",
    "model.add(layers.Conv2D(64, (3, 3), activation='relu'))\n",
    "\n",
    "model.add(layers.Flatten())\n",
    "model.add(layers.Dense(64, activation='relu'))\n",
    "model.add(layers.Dense(13, activation='softmax'))\n",
    "\n",
    "model.compile(optimizer='rmsprop',\n",
    "                loss='categorical_crossentropy',\n",
    "                metrics=['accuracy'])\n",
    "history = model.fit(train_data, one_hot_train_labels, epochs=5, batch_size=48,\n",
    "                    validation_data=(validation_data, one_hot_validation_labels)\n",
    ")\n",
    "\n",
    "test_loss, test_acc = model.evaluate(test_data, one_hot_test_labels)\n",
    "test_acc"
   ]
  }
 ],
 "metadata": {
  "kernelspec": {
   "display_name": "Python 3",
   "language": "python",
   "name": "python3"
  },
  "language_info": {
   "codemirror_mode": {
    "name": "ipython",
    "version": 3
   },
   "file_extension": ".py",
   "mimetype": "text/x-python",
   "name": "python",
   "nbconvert_exporter": "python",
   "pygments_lexer": "ipython3",
   "version": "3.8.8"
  },
  "vscode": {
   "interpreter": {
    "hash": "15dafcb42fb778cb4e53f1538fe5ed6d910353f6cdfddc8d50c981d79f26beb3"
   }
  }
 },
 "nbformat": 4,
 "nbformat_minor": 5
}
